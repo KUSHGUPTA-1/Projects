{
 "cells": [
  {
   "cell_type": "code",
   "execution_count": null,
   "id": "bbb5223e",
   "metadata": {},
   "outputs": [
    {
     "name": "stdout",
     "output_type": "stream",
     "text": [
      "10\n",
      "8\n",
      "6\n",
      "4\n",
      "2\n"
     ]
    }
   ],
   "source": [
    "# Printing The Numbers According To The User\n",
    "ch=input('Press F for forward printing or Press B for backward printing : ')\n",
    "if ch=='F':\n",
    "    st=int(input('Enter starting point : '))\n",
    "    end=int(input('Enter ending point : '))\n",
    "    upd=int(input('Enter updation : '))\n",
    "    ch1=input('Press R for row printing or Press C for column printing:')\n",
    "    if ch1=='R':\n",
    "         if st<=end:\n",
    "            for i in range(st,end+1,upd):\n",
    "                print(i,end=' ')\n",
    "         else:\n",
    "            print('Invalid starting and ending point.')\n",
    "    elif ch1=='C':\n",
    "        if st<=end:\n",
    "            for i in range(st,end+1,upd):\n",
    "                print(i)\n",
    "        else:\n",
    "            print('Invalid starting and ending point.')\n",
    "    else:\n",
    "        print('Invalid choice.')\n",
    "elif ch=='B':\n",
    "    st=int(input('Enter starting point : '))\n",
    "    end=int(input('Enter ending point : '))\n",
    "    upd=int(input('Enter updation : '))\n",
    "    ch2=input('Press R for row printing or Press C for column printing:')\n",
    "    if ch2=='R':\n",
    "        if st>=end:\n",
    "            for i in range(st,end-1,-upd):\n",
    "                print(i,end=' ')\n",
    "        else:\n",
    "            print('Invalid input(s).')\n",
    "    elif ch2=='C':\n",
    "         if st>=end:\n",
    "            for i in range(st,end-1,-upd):\n",
    "                print(i)\n",
    "         else:\n",
    "            print('Invalid input(s).')\n",
    "    else:\n",
    "        print('Invalid choice')\n",
    "        \n",
    "else:\n",
    "    print('Enter either F or B.Thank you.')"
   ]
  }
 ],
 "metadata": {
  "kernelspec": {
   "display_name": "Python 3",
   "language": "python",
   "name": "python3"
  },
  "language_info": {
   "codemirror_mode": {
    "name": "ipython",
    "version": 3
   },
   "file_extension": ".py",
   "mimetype": "text/x-python",
   "name": "python",
   "nbconvert_exporter": "python",
   "pygments_lexer": "ipython3",
   "version": "3.12.1"
  }
 },
 "nbformat": 4,
 "nbformat_minor": 5
}
